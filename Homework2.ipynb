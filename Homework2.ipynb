{
 "cells": [
  {
   "cell_type": "code",
   "execution_count": 7,
   "metadata": {},
   "outputs": [
    {
     "name": "stdout",
     "output_type": "stream",
     "text": [
      "Фраза 1 длиннее фразы 2\n"
     ]
    }
   ],
   "source": [
    "#Задание 1\n",
    "phrase_1 = 'Насколько проще было бы писать программы, если бы не заказчики'\n",
    "phrase_2 = '640Кб должно хватить для любых задач. Билл Гейтс (по легенде)'\n",
    "if len(phrase_1) > len(phrase_2):\n",
    "    print('Фраза 1 длиннее фразы 2')\n",
    "elif len(phrase_1) == len(phrase_2):\n",
    "    print('Фразы равной длины')\n",
    "else:\n",
    "    print('Фраза 2 длиннее фразы 1')"
   ]
  },
  {
   "cell_type": "code",
   "execution_count": 8,
   "metadata": {},
   "outputs": [
    {
     "name": "stdout",
     "output_type": "stream",
     "text": [
      "Високосный год\n"
     ]
    }
   ],
   "source": [
    "#Задание 2\n",
    "year = 2020\n",
    "if year % 4 == 0:\n",
    "    print('Високосный год')\n",
    "else:\n",
    "    print('Обычный год')"
   ]
  },
  {
   "cell_type": "code",
   "execution_count": 9,
   "metadata": {},
   "outputs": [
    {
     "name": "stdout",
     "output_type": "stream",
     "text": [
      "Введите месяц : декабрь\n",
      "Введите дату : 21\n",
      "Ваш знак зодиака: Стрелец\n"
     ]
    }
   ],
   "source": [
    "#Задание 3\n",
    "month = str(input('Введите месяц : '))\n",
    "date = int(input('Введите дату : '))\n",
    "if (month == 'январь'and date <= 31 and date >= 21 ) or (month == 'февраль' and date <= 18 and date >= 1):\n",
    "    print('Ваш знак зодиака: Водолей')\n",
    "elif (month == 'февраль'and date <= 28 and date >= 18 ) or (month == 'март' and date <= 20 and date >= 1):\n",
    "    print('Ваш знак зодиака: Рыбы')\n",
    "elif (month == 'март'and date <= 31 and date >= 21 ) or (month == 'апрель' and date <= 19 and date >= 1):\n",
    "    print('Ваш знак зодиака: Овен')\n",
    "elif (month == 'апрель'and date <= 30 and date >= 20 ) or (month == 'май' and date <= 20 and date >= 1):\n",
    "    print('Ваш знак зодиака: Телец')\n",
    "elif (month == 'май'and date <= 31 and date >= 21 ) or (month == 'июнь' and date <= 21 and date >= 1):\n",
    "    print('Ваш знак зодиака: Близнецы')\n",
    "elif (month == 'июнь'and date <= 30 and date >= 22 ) or (month == 'июль' and date <= 22 and date >= 1):\n",
    "    print('Ваш знак зодиака: Рак')\n",
    "elif (month == 'июль'and date <= 31 and date >= 23 ) or (month == 'август' and date <= 22 and date >= 1):\n",
    "    print('Ваш знак зодиака: Лев')\n",
    "elif (month == 'август'and date <= 31 and date >= 23 ) or (month == 'сентябрь' and date <= 22 and date >= 1):\n",
    "    print('Ваш знак зодиака: Дева')\n",
    "elif (month == 'сентябрь'and date <= 30 and date >= 23 ) or (month == 'октябрь' and date <= 23 and date >= 1):\n",
    "    print('Ваш знак зодиака: Весы')\n",
    "elif (month == 'октябрь'and date <= 31 and date >= 24 ) or (month == 'ноябрь' and date <= 22 and date >= 1):\n",
    "    print('Ваш знак зодиака: Скорпион')\n",
    "elif (month == 'ноябрь' and date <= 30 and date >= 23 ) or (month == 'декабрь' and date <= 21 and date >= 1):\n",
    "    print('Ваш знак зодиака: Стрелец')\n",
    "elif (month == 'декабрь' and date <= 31 and date >= 22 ) or (month == 'январь' and date <= 20 and date >= 1):\n",
    "    print('Ваш знак зодиака: Козерог')\n",
    "else:\n",
    "    print('Некорректно введены данные')"
   ]
  },
  {
   "cell_type": "code",
   "execution_count": 10,
   "metadata": {},
   "outputs": [
    {
     "name": "stdout",
     "output_type": "stream",
     "text": [
      "Упаковка для лыж\n"
     ]
    }
   ],
   "source": [
    "#Задание 4\n",
    "\n",
    "width = 10\n",
    "length = 205\n",
    "height = 5\n",
    "\n",
    "if width < 15 and length < 15 and height < 15:\n",
    "  print('Коробка №1') \n",
    "elif (15 < width < 50) or ( 15 < length < 50) or (15 < height < 50):\n",
    "  print ('Коробка №2')\n",
    "elif length > 200:\n",
    "  print ('Упаковка для лыж')\n",
    "else:\n",
    "  print('Стандартная коробка №3')"
   ]
  }
 ],
 "metadata": {
  "kernelspec": {
   "display_name": "Python 3",
   "language": "python",
   "name": "python3"
  },
  "language_info": {
   "codemirror_mode": {
    "name": "ipython",
    "version": 3
   },
   "file_extension": ".py",
   "mimetype": "text/x-python",
   "name": "python",
   "nbconvert_exporter": "python",
   "pygments_lexer": "ipython3",
   "version": "3.7.6"
  }
 },
 "nbformat": 4,
 "nbformat_minor": 4
}
